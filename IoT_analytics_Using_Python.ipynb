{
  "nbformat": 4,
  "nbformat_minor": 0,
  "metadata": {
    "colab": {
      "name": "IoT analytics Using Python.ipynb",
      "provenance": [],
      "collapsed_sections": [],
      "include_colab_link": true
    },
    "kernelspec": {
      "name": "python3",
      "display_name": "Python 3"
    }
  },
  "cells": [
    {
      "cell_type": "markdown",
      "metadata": {
        "id": "view-in-github",
        "colab_type": "text"
      },
      "source": [
        "<a href=\"https://colab.research.google.com/github/sachinkun21/IOT_Analytics/blob/master/IoT_analytics_Using_Python.ipynb\" target=\"_parent\"><img src=\"https://colab.research.google.com/assets/colab-badge.svg\" alt=\"Open In Colab\"/></a>"
      ]
    },
    {
      "cell_type": "markdown",
      "metadata": {
        "id": "uWw2qHoDcUrE",
        "colab_type": "text"
      },
      "source": [
        "## Data acquisition:\n",
        "### Let's get first set of IoT data using HTTP request.\n",
        "\n",
        "WE will START by consuming an environmental API provided by a public community. The API consists of multiple endpoints, and we will start by consuming the temperature data. \n",
        "\n",
        "The data is in 10-minute intervals and limited historical data is available.\n",
        "\n",
        "We will use requests to download the last 5 records. Since the endpoint provides json encoded data, you can use .json() on the response object to get a python object (in this case a list).\n",
        "\n",
        "Then we will convert the list to a pandas DataFrame to be able to easily work with the data.\n",
        "\n",
        "The constant URL to consume data from has been defined for you."
      ]
    },
    {
      "cell_type": "code",
      "metadata": {
        "id": "h42z9JhmcO4-",
        "colab_type": "code",
        "colab": {
          "base_uri": "https://localhost:8080/",
          "height": 156
        },
        "outputId": "b23a6c6f-ac20-479e-d12f-f992bd84d402"
      },
      "source": [
        "# Imports\n",
        "import requests, pandas as pd\n",
        "\n",
        "URL = 'https://assets.datacamp.com/production/repositories/4296/datasets/8f6b478697a8d05e10b7d535af67154549a4f38f/environ_MS83200MS_airtemp_600_30r.json'\n",
        "\n",
        "# Download data from URL\n",
        "res = requests.get(URL)\n",
        "\n",
        "# Convert the result\n",
        "data_temp = res.json()\n",
        "print(data_temp)\n",
        "\n",
        "# Convert json data to Dataframe\n",
        "df_temp = pd.DataFrame(data_temp)\n",
        "\n",
        "print(df_temp.head())"
      ],
      "execution_count": 8,
      "outputs": [
        {
          "output_type": "stream",
          "text": [
            "[{'timestamp': 1535764800000, 'value': 15.8}, {'timestamp': 1535765400000, 'value': 15.7}, {'timestamp': 1535766000000, 'value': 15.7}, {'timestamp': 1535766600000, 'value': 15.6}, {'timestamp': 1535767200000, 'value': 15.7}, {'timestamp': 1535767800000, 'value': 15.7}, {'timestamp': 1535768400000, 'value': 15.8}, {'timestamp': 1535769000000, 'value': 15.7}, {'timestamp': 1535769600000, 'value': 15.9}, {'timestamp': 1535770200000, 'value': 15.7}, {'timestamp': 1535770800000, 'value': 15.6}, {'timestamp': 1535771400000, 'value': 15.4}, {'timestamp': 1535772000000, 'value': 15.4}, {'timestamp': 1535772600000, 'value': 15.2}, {'timestamp': 1535773200000, 'value': 14.6}, {'timestamp': 1535773800000, 'value': 14.5}, {'timestamp': 1535774400000, 'value': 14.4}, {'timestamp': 1535775000000, 'value': 14.2}, {'timestamp': 1535775600000, 'value': 14.2}, {'timestamp': 1535776200000, 'value': 14.2}, {'timestamp': 1535776800000, 'value': 14.2}, {'timestamp': 1535777400000, 'value': 14.1}, {'timestamp': 1535778000000, 'value': 14.0}, {'timestamp': 1535778600000, 'value': 14.1}, {'timestamp': 1535779200000, 'value': 14.2}, {'timestamp': 1535779800000, 'value': 14.1}, {'timestamp': 1535780400000, 'value': 14.1}, {'timestamp': 1535781000000, 'value': 14.1}, {'timestamp': 1535781600000, 'value': 14.1}, {'timestamp': 1535782200000, 'value': 14.2}]\n",
            "       timestamp  value\n",
            "0  1535764800000   15.8\n",
            "1  1535765400000   15.7\n",
            "2  1535766000000   15.7\n",
            "3  1535766600000   15.6\n",
            "4  1535767200000   15.7\n"
          ],
          "name": "stdout"
        }
      ]
    },
    {
      "cell_type": "markdown",
      "metadata": {
        "id": "C6vXUipZdK-d",
        "colab_type": "text"
      },
      "source": [
        "### Another One: Acquire data with pandas\n",
        "As we saw, consuming the public API, converting the data and transforming this into a DataFrame required multiple lines of code.\n",
        "\n",
        "This can be simplified by using pandas: pd.read_json(), which handles the above steps for you.\n",
        "\n",
        "You will consume the same API again. However this time, you'll be using pandas to consume the API and store the result to disk for further analysis. "
      ]
    },
    {
      "cell_type": "code",
      "metadata": {
        "id": "Wz5n7Uaech_9",
        "colab_type": "code",
        "colab": {
          "base_uri": "https://localhost:8080/",
          "height": 170
        },
        "outputId": "14ffc8cd-2a7a-4584-9a3e-7da9259fc911"
      },
      "source": [
        "# Import pandas\n",
        "import pandas as pd\n",
        "\n",
        "# Load URL to Dataframe\n",
        "df_temp = pd.read_json(URL)\n",
        "\n",
        "# Print first 5 rows\n",
        "print(df_temp.head())\n",
        "\n",
        "# Print datatypes\n",
        "print(df_temp.dtypes)"
      ],
      "execution_count": 9,
      "outputs": [
        {
          "output_type": "stream",
          "text": [
            "            timestamp  value\n",
            "0 2018-09-01 01:20:00   15.8\n",
            "1 2018-09-01 01:30:00   15.7\n",
            "2 2018-09-01 01:40:00   15.7\n",
            "3 2018-09-01 01:50:00   15.6\n",
            "4 2018-09-01 02:00:00   15.7\n",
            "timestamp    datetime64[ns]\n",
            "value               float64\n",
            "dtype: object\n"
          ],
          "name": "stdout"
        }
      ]
    },
    {
      "cell_type": "markdown",
      "metadata": {
        "id": "7dnmuM3ZfKkd",
        "colab_type": "text"
      },
      "source": [
        "## Store data back into CSV and JSON\n",
        "After consuming an API endpoint, it's often desirable to store the data to disk.\n",
        "\n",
        "Some of the reasons we might want to store data are:\n",
        "\n",
        "- archive reproducible results\n",
        "- train ML Models\n",
        "\n",
        "We will now consume the same api as you did in previous exercises, but this time we will store the data in both JSON and CSV format.\n",
        "\n",
        "After running this code cell, we can also verify the data you saved using `!head filename.`\n"
      ]
    },
    {
      "cell_type": "code",
      "metadata": {
        "id": "7ZhvKRW8dWQG",
        "colab_type": "code",
        "colab": {}
      },
      "source": [
        "# Import pandas\n",
        "import pandas as pd\n",
        "\n",
        "# Load URL to Dataframe\n",
        "df_temp = pd.read_json(URL)\n",
        "\n",
        "# Save dataframe as json\n",
        "df_temp.to_json('temperature.json', orient='records')\n",
        "\n",
        "# Save dataframe as csv\n",
        "df_temp.to_csv('temperature.csv' , index=False)"
      ],
      "execution_count": 0,
      "outputs": []
    },
    {
      "cell_type": "code",
      "metadata": {
        "id": "JzvoFp6zfVbB",
        "colab_type": "code",
        "colab": {
          "base_uri": "https://localhost:8080/",
          "height": 187
        },
        "outputId": "230e2b7f-3e63-4b6a-bbd5-269e5a1d46da"
      },
      "source": [
        "!head temperature.csv"
      ],
      "execution_count": 11,
      "outputs": [
        {
          "output_type": "stream",
          "text": [
            "timestamp,value\n",
            "2018-09-01 01:20:00,15.8\n",
            "2018-09-01 01:30:00,15.7\n",
            "2018-09-01 01:40:00,15.7\n",
            "2018-09-01 01:50:00,15.6\n",
            "2018-09-01 02:00:00,15.7\n",
            "2018-09-01 02:10:00,15.7\n",
            "2018-09-01 02:20:00,15.8\n",
            "2018-09-01 02:30:00,15.7\n",
            "2018-09-01 02:40:00,15.9\n"
          ],
          "name": "stdout"
        }
      ]
    },
    {
      "cell_type": "code",
      "metadata": {
        "id": "ktOmEjEDfZNa",
        "colab_type": "code",
        "colab": {}
      },
      "source": [
        ""
      ],
      "execution_count": 0,
      "outputs": []
    }
  ]
}